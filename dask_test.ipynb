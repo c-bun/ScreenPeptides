{
 "cells": [
  {
   "cell_type": "markdown",
   "id": "molecular-sponsorship",
   "metadata": {},
   "source": [
    "Trying out dask to see if this is a better way to speed things up."
   ]
  },
  {
   "cell_type": "code",
   "execution_count": 1,
   "id": "quantitative-organic",
   "metadata": {},
   "outputs": [
    {
     "name": "stdout",
     "output_type": "stream",
     "text": [
      "PyRosetta-4 2020 [Rosetta PyRosetta4.conda.linux.CentOS.python37.Release 2020.10+release.46415fa3e9decb8b6e91a4e065c15543eb27a461 2020-03-05T09:09:24] retrieved from: http://www.pyrosetta.org\n",
      "(C) Copyright Rosetta Commons Member Institutions. Created in JHU by Sergey Lyskov and PyRosetta Team.\n",
      "\u001b[0mcore.init: {0} \u001b[0mChecking for fconfig files in pwd and ./rosetta/flags\n",
      "\u001b[0mcore.init: {0} \u001b[0mRosetta version: PyRosetta4.conda.linux.CentOS.python37.Release r248 2020.10+release.46415fa 46415fa3e9decb8b6e91a4e065c15543eb27a461 http://www.pyrosetta.org 2020-03-05T09:09:24\n",
      "\u001b[0mcore.init: {0} \u001b[0mcommand: PyRosetta -pep_refine -ex1 -ex2aro -use_input_sc -ignore_unrecognized_res -out:level 300 -multithreading:total_threads 1 -database /home/colin/anaconda3/envs/pyrosetta/lib/python3.7/site-packages/pyrosetta/database\n",
      "\u001b[0mbasic.random.init_random_generator: {0} \u001b[0m'RNG device' seed mode, using '/dev/urandom', seed=-1004787300 seed_offset=0 real_seed=-1004787300 thread_index=0\n",
      "\u001b[0mbasic.random.init_random_generator: {0} \u001b[0mRandomGenerator:init: Normal mode, seed=-1004787300 RG_type=mt19937\n"
     ]
    }
   ],
   "source": [
    "from ScreenPeptides import *\n",
    "fp_dock_init()"
   ]
  },
  {
   "cell_type": "code",
   "execution_count": 2,
   "id": "interim-paintball",
   "metadata": {},
   "outputs": [],
   "source": [
    "from dask.distributed import Client"
   ]
  },
  {
   "cell_type": "code",
   "execution_count": 3,
   "id": "generous-neutral",
   "metadata": {},
   "outputs": [
    {
     "data": {
      "text/html": [
       "<table style=\"border: 2px solid white;\">\n",
       "<tr>\n",
       "<td style=\"vertical-align: top; border: 0px solid white\">\n",
       "<h3 style=\"text-align: left;\">Client</h3>\n",
       "<ul style=\"text-align: left; list-style: none; margin: 0; padding: 0;\">\n",
       "  <li><b>Scheduler: </b>tcp://127.0.0.1:46381</li>\n",
       "  <li><b>Dashboard: </b><a href='http://127.0.0.1:8787/status' target='_blank'>http://127.0.0.1:8787/status</a>\n",
       "</ul>\n",
       "</td>\n",
       "<td style=\"vertical-align: top; border: 0px solid white\">\n",
       "<h3 style=\"text-align: left;\">Cluster</h3>\n",
       "<ul style=\"text-align: left; list-style:none; margin: 0; padding: 0;\">\n",
       "  <li><b>Workers: </b>24</li>\n",
       "  <li><b>Cores: </b>24</li>\n",
       "  <li><b>Memory: </b>67.36 GB</li>\n",
       "</ul>\n",
       "</td>\n",
       "</tr>\n",
       "</table>"
      ],
      "text/plain": [
       "<Client: 'tcp://127.0.0.1:46381' processes=24 threads=24, memory=67.36 GB>"
      ]
     },
     "execution_count": 3,
     "metadata": {},
     "output_type": "execute_result"
    }
   ],
   "source": [
    "client = Client(n_workers=24)\n",
    "client\n",
    "\n",
    "#this does not work when I use the extension, which is a bummer"
   ]
  },
  {
   "cell_type": "code",
   "execution_count": 4,
   "id": "smaller-tattoo",
   "metadata": {},
   "outputs": [
    {
     "name": "stdout",
     "output_type": "stream",
     "text": [
      "Overwriting dask_docks.py\n"
     ]
    }
   ],
   "source": [
    "%%writefile dask_docks.py\n",
    "\n",
    "from pyrosetta.rosetta import *\n",
    "from pyrosetta import *\n",
    "import ScreenPeptides\n",
    "import MutateInterface\n",
    "\n",
    "def dask_testmut(pdb_filepath):\n",
    "    from pyrosetta.rosetta.protocols.flexpep_docking import FlexPepDockingProtocol\n",
    "    import ScreenPeptides\n",
    "    import MutateInterface\n",
    "    import random\n",
    "    \n",
    "    ScreenPeptides.fp_dock_init()\n",
    "\n",
    "    pose = pose_from_pdb(pdb_filepath)\n",
    "    position = random.choice(MutateInterface.interface_res(pose))\n",
    "    aa = MutateInterface.choose_AA()\n",
    "    toolbox.mutants.mutate_residue(pose, position, aa, pack_radius=8)\n",
    "    \n",
    "    fpdock = FlexPepDockingProtocol()\n",
    "    fpdock.apply(pose)\n",
    "    \n",
    "    return pose.scores\n",
    "\n",
    "def ddG_peptide(pdb_filepath, pdb_native_filepath):\n",
    "    \"\"\"\n",
    "    Run FpDock and then calc ddG.\n",
    "    \n",
    "    First arg is path to pdb file. Second arg is path to native pdb file.\n",
    "    \"\"\"\n",
    "    from pyrosetta.rosetta.protocols.flexpep_docking import FlexPepDockingProtocol\n",
    "    import ScreenPeptides\n",
    "    \n",
    "    #pdb_filepath, pdb_native_filepath = args\n",
    "    \n",
    "    ScreenPeptides.fp_dock_init()\n",
    "\n",
    "    pose = pose_from_pdb(pdb_filepath)\n",
    "    native_pose = pose_from_pdb(pdb_native_filepath)\n",
    "    \n",
    "    fpdock = FlexPepDockingProtocol()\n",
    "    fpdock.apply(pose)\n",
    "    \n",
    "    ddG = ScreenPeptides.ddG(native_pose, pose, 151)\n",
    "    \n",
    "    pose.scores['ddG'] = ddG\n",
    "    pose.scores['fname'] = pose.pdb_info().name()\n",
    "    \n",
    "    return pose.scores"
   ]
  },
  {
   "cell_type": "markdown",
   "id": "furnished-bearing",
   "metadata": {},
   "source": [
    "Let's try docking some things."
   ]
  },
  {
   "cell_type": "code",
   "execution_count": 5,
   "id": "worth-canvas",
   "metadata": {},
   "outputs": [],
   "source": [
    "%run MutateInterface.py\n",
    "%run dask_docks.py\n",
    "%run ScreenPeptides.py"
   ]
  },
  {
   "cell_type": "code",
   "execution_count": 8,
   "id": "political-start",
   "metadata": {},
   "outputs": [],
   "source": [
    "from os import listdir\n",
    "results = []\n",
    "smbits = listdir('./smbits/')\n",
    "for file in smbits:\n",
    "    bitpath = './smbits/'+file\n",
    "    nativepath = './smbits/native_test.pdb'\n",
    "    r = client.submit(ddG_peptide, bitpath, nativepath)\n",
    "    results.append(r)\n",
    "#r = client.map(ddG_peptide, tasks, pure=False) #pure=False is very important for each process to get a unique seed"
   ]
  },
  {
   "cell_type": "code",
   "execution_count": 10,
   "id": "consecutive-drama",
   "metadata": {},
   "outputs": [
    {
     "name": "stdout",
     "output_type": "stream",
     "text": [
      "<Future: status: error, key: ddG_peptide-86fbd25b2b089c3b52b3ba7e359cb0f3>\n",
      "<Future: status: error, key: ddG_peptide-ec592ea1316bebb2252d2c1f5568d23f>\n",
      "<Future: status: error, key: ddG_peptide-5cd6c94877055374f7deccdd1fa40997>\n",
      "<Future: status: error, key: ddG_peptide-5e4a15d3c59faa42e2b8b296eb628254>\n",
      "<Future: status: error, key: ddG_peptide-fba913356bc7e1c61549ab62db98ea3f>\n",
      "<Future: status: error, key: ddG_peptide-afbd0be74be321ac808613559792e4ba>\n",
      "<Future: status: error, key: ddG_peptide-acf9633b22f572246e512a41ec25ca56>\n",
      "<Future: status: error, key: ddG_peptide-b7bd857cb4f9ba68f4621cd8ce1b590b>\n",
      "<Future: status: error, key: ddG_peptide-a54873463c1593845dc1d2fb9502158e>\n"
     ]
    }
   ],
   "source": [
    "#g = client.gather(r)\n",
    "for r in results:\n",
    "    print(r)"
   ]
  },
  {
   "cell_type": "code",
   "execution_count": 11,
   "id": "liberal-lawsuit",
   "metadata": {},
   "outputs": [
    {
     "name": "stderr",
     "output_type": "stream",
     "text": [
      "distributed.client - ERROR - Failed to reconnect to scheduler after 10.00 seconds, closing client\n",
      "distributed.utils - ERROR - \n",
      "Traceback (most recent call last):\n",
      "  File \"/home/colin/anaconda3/envs/pyrosetta/lib/python3.7/site-packages/distributed/utils.py\", line 662, in log_errors\n",
      "    yield\n",
      "  File \"/home/colin/anaconda3/envs/pyrosetta/lib/python3.7/site-packages/distributed/client.py\", line 1284, in _close\n",
      "    await gen.with_timeout(timedelta(seconds=2), list(coroutines))\n",
      "concurrent.futures._base.CancelledError\n",
      "distributed.utils - ERROR - \n",
      "Traceback (most recent call last):\n",
      "  File \"/home/colin/anaconda3/envs/pyrosetta/lib/python3.7/site-packages/distributed/utils.py\", line 662, in log_errors\n",
      "    yield\n",
      "  File \"/home/colin/anaconda3/envs/pyrosetta/lib/python3.7/site-packages/distributed/client.py\", line 1013, in _reconnect\n",
      "    await self._close()\n",
      "  File \"/home/colin/anaconda3/envs/pyrosetta/lib/python3.7/site-packages/distributed/client.py\", line 1284, in _close\n",
      "    await gen.with_timeout(timedelta(seconds=2), list(coroutines))\n",
      "concurrent.futures._base.CancelledError\n"
     ]
    }
   ],
   "source": [
    "client.shutdown()"
   ]
  },
  {
   "cell_type": "code",
   "execution_count": null,
   "id": "nutritional-asthma",
   "metadata": {},
   "outputs": [],
   "source": []
  }
 ],
 "metadata": {
  "kernelspec": {
   "display_name": "Python (pyrosetta)",
   "language": "python",
   "name": "pyrosetta"
  },
  "language_info": {
   "codemirror_mode": {
    "name": "ipython",
    "version": 3
   },
   "file_extension": ".py",
   "mimetype": "text/x-python",
   "name": "python",
   "nbconvert_exporter": "python",
   "pygments_lexer": "ipython3",
   "version": "3.7.4"
  }
 },
 "nbformat": 4,
 "nbformat_minor": 5
}
