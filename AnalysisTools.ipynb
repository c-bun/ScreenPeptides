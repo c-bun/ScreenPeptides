{
 "cells": [
  {
   "cell_type": "markdown",
   "metadata": {},
   "source": [
    "Code below will analyze ```.fasc``` files that are output by the ```JobDistributor```."
   ]
  },
  {
   "cell_type": "code",
   "execution_count": 2,
   "metadata": {},
   "outputs": [],
   "source": [
    "from os import listdir\n",
    "import pandas as pd\n",
    "import seaborn as sn\n",
    "import numpy as np\n",
    "import matplotlib.pyplot as plt\n",
    "\n",
    "date_time = \"20210321-224053\"\n",
    "\n",
    "def parseSmBits(date_time):\n",
    "    kds = {'peptide86':0.7E-9,\n",
    "           'peptide78':3.4E-9,\n",
    "           'peptide79':8.5E-9,\n",
    "           'peptide99':1.8E-7,\n",
    "           'peptide128':2.8E-7,\n",
    "           'native_test':0.9E-6,\n",
    "           'peptide104':1.3E-6,\n",
    "           'peptide101':2.5E-6,\n",
    "           'peptide114':1.9E-4\n",
    "           }\n",
    "\n",
    "    l = listdir(\"./decoys/\")\n",
    "    fascs = []\n",
    "    for f in l:\n",
    "        if \".fasc\" in f:\n",
    "            if date_time in f:\n",
    "                fascs.append(f)\n",
    "\n",
    "    print(fascs)\n",
    "\n",
    "    data = pd.read_json(\"./decoys/\"+fascs[0], orient='records', lines=True)\n",
    "\n",
    "    for f in fascs[1:]:\n",
    "        d = pd.read_json(\"./decoys/\"+f, orient='records', lines=True)\n",
    "        data = data.append(d)\n",
    "\n",
    "    print(data.shape)\n",
    "\n",
    "    peptide_names = []\n",
    "    for i, r in data.iterrows():\n",
    "        s = r['filename'].split('-')\n",
    "        s = s[0].split('/')\n",
    "        name = s[2]\n",
    "        peptide_names.append(name)\n",
    "\n",
    "    data['peptide'] = peptide_names\n",
    "    #print(data.head())\n",
    "\n",
    "    peptides = set(data['peptide'])\n",
    "    dfs = []\n",
    "\n",
    "    for peptide in peptides:\n",
    "        subdata = data[data['peptide']==peptide]\n",
    "        subdata['kds'] = kds[peptide]\n",
    "\n",
    "        stdev_total_score = np.std(subdata['total_score'])\n",
    "        mean_total_score = np.mean(subdata['total_score'])\n",
    "        print(\"{}: {} plus minus {}\".format(peptide, mean_total_score, stdev_total_score))\n",
    "\n",
    "        threshold_total_score = mean_total_score - 2 * stdev_total_score\n",
    "\n",
    "        #dfs.append(subdata[subdata['total_score']<threshold_total_score])\n",
    "        dfs.append(subdata.sort_values('total_score')[:10])\n",
    "\n",
    "    significant_structures = pd.concat(dfs)\n",
    "    print(significant_structures.shape)\n",
    "    return significant_structures"
   ]
  },
  {
   "cell_type": "code",
   "execution_count": null,
   "metadata": {},
   "outputs": [],
   "source": []
  }
 ],
 "metadata": {
  "kernelspec": {
   "display_name": "Python [conda env:pyrosetta]",
   "language": "python",
   "name": "conda-env-pyrosetta-py"
  },
  "language_info": {
   "codemirror_mode": {
    "name": "ipython",
    "version": 3
   },
   "file_extension": ".py",
   "mimetype": "text/x-python",
   "name": "python",
   "nbconvert_exporter": "python",
   "pygments_lexer": "ipython3",
   "version": "3.7.4"
  }
 },
 "nbformat": 4,
 "nbformat_minor": 4
}
