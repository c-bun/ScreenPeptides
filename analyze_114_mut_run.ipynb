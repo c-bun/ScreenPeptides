{
 "cells": [
  {
   "cell_type": "markdown",
   "metadata": {},
   "source": [
    "Analyze a mutate run."
   ]
  },
  {
   "cell_type": "code",
   "execution_count": 10,
   "metadata": {},
   "outputs": [],
   "source": [
    "from os import listdir\n",
    "import pandas as pd\n",
    "\n",
    "decoys = listdir('./decoys/')"
   ]
  },
  {
   "cell_type": "code",
   "execution_count": 6,
   "metadata": {},
   "outputs": [
    {
     "data": {
      "text/plain": [
       "2216"
      ]
     },
     "execution_count": 6,
     "metadata": {},
     "output_type": "execute_result"
    }
   ],
   "source": [
    "len(decoys)"
   ]
  },
  {
   "cell_type": "code",
   "execution_count": 7,
   "metadata": {},
   "outputs": [],
   "source": [
    "fascs = [f for f in decoys if \".fasc\" in f]"
   ]
  },
  {
   "cell_type": "code",
   "execution_count": 11,
   "metadata": {},
   "outputs": [
    {
     "name": "stdout",
     "output_type": "stream",
     "text": [
      "(2170, 19)\n"
     ]
    }
   ],
   "source": [
    "data = pd.read_json(\"./decoys/\"+fascs[0], orient='records', lines=True)\n",
    "\n",
    "for f in fascs[1:]:\n",
    "    d = pd.read_json(\"./decoys/\"+f, orient='records', lines=True)\n",
    "    data = data.append(d)\n",
    "\n",
    "print(data.shape)"
   ]
  },
  {
   "cell_type": "code",
   "execution_count": 12,
   "metadata": {},
   "outputs": [
    {
     "data": {
      "text/html": [
       "<div>\n",
       "<style scoped>\n",
       "    .dataframe tbody tr th:only-of-type {\n",
       "        vertical-align: middle;\n",
       "    }\n",
       "\n",
       "    .dataframe tbody tr th {\n",
       "        vertical-align: top;\n",
       "    }\n",
       "\n",
       "    .dataframe thead th {\n",
       "        text-align: right;\n",
       "    }\n",
       "</style>\n",
       "<table border=\"1\" class=\"dataframe\">\n",
       "  <thead>\n",
       "    <tr style=\"text-align: right;\">\n",
       "      <th></th>\n",
       "      <th>pdb_name</th>\n",
       "      <th>decoy</th>\n",
       "      <th>filename</th>\n",
       "      <th>nstruct</th>\n",
       "      <th>dslf_ca_dih</th>\n",
       "      <th>dslf_cs_ang</th>\n",
       "      <th>dslf_ss_dih</th>\n",
       "      <th>dslf_ss_dst</th>\n",
       "      <th>fa_atr</th>\n",
       "      <th>fa_dun</th>\n",
       "      <th>fa_elec</th>\n",
       "      <th>fa_pair</th>\n",
       "      <th>fa_rep</th>\n",
       "      <th>fa_sol</th>\n",
       "      <th>hbond_bb_sc</th>\n",
       "      <th>hbond_lr_bb</th>\n",
       "      <th>hbond_sc</th>\n",
       "      <th>hbond_sr_bb</th>\n",
       "      <th>total_score</th>\n",
       "    </tr>\n",
       "  </thead>\n",
       "  <tbody>\n",
       "    <tr>\n",
       "      <td>0</td>\n",
       "      <td>./decoys/21I</td>\n",
       "      <td>./decoys/21I_28.pdb</td>\n",
       "      <td>./decoys/21I_28.pdb</td>\n",
       "      <td>50</td>\n",
       "      <td>0</td>\n",
       "      <td>0</td>\n",
       "      <td>0</td>\n",
       "      <td>0</td>\n",
       "      <td>-317.082910</td>\n",
       "      <td>11.654043</td>\n",
       "      <td>-7.043129</td>\n",
       "      <td>-2.577285</td>\n",
       "      <td>10.733370</td>\n",
       "      <td>126.523382</td>\n",
       "      <td>-2.839848</td>\n",
       "      <td>-18.334818</td>\n",
       "      <td>-2.513684</td>\n",
       "      <td>-7.956285</td>\n",
       "      <td>-209.437164</td>\n",
       "    </tr>\n",
       "    <tr>\n",
       "      <td>1</td>\n",
       "      <td>./decoys/21I</td>\n",
       "      <td>./decoys/21I_0.pdb</td>\n",
       "      <td>./decoys/21I_0.pdb</td>\n",
       "      <td>50</td>\n",
       "      <td>0</td>\n",
       "      <td>0</td>\n",
       "      <td>0</td>\n",
       "      <td>0</td>\n",
       "      <td>-318.453387</td>\n",
       "      <td>11.599302</td>\n",
       "      <td>-6.960122</td>\n",
       "      <td>-2.503421</td>\n",
       "      <td>10.974029</td>\n",
       "      <td>126.843570</td>\n",
       "      <td>-2.732888</td>\n",
       "      <td>-18.750519</td>\n",
       "      <td>-2.218730</td>\n",
       "      <td>-7.956285</td>\n",
       "      <td>-210.158453</td>\n",
       "    </tr>\n",
       "    <tr>\n",
       "      <td>2</td>\n",
       "      <td>./decoys/21I</td>\n",
       "      <td>./decoys/21I_17.pdb</td>\n",
       "      <td>./decoys/21I_17.pdb</td>\n",
       "      <td>50</td>\n",
       "      <td>0</td>\n",
       "      <td>0</td>\n",
       "      <td>0</td>\n",
       "      <td>0</td>\n",
       "      <td>-318.298866</td>\n",
       "      <td>11.563834</td>\n",
       "      <td>-6.937212</td>\n",
       "      <td>-2.528623</td>\n",
       "      <td>10.435023</td>\n",
       "      <td>125.926953</td>\n",
       "      <td>-2.838989</td>\n",
       "      <td>-17.994537</td>\n",
       "      <td>-2.359262</td>\n",
       "      <td>-7.956285</td>\n",
       "      <td>-210.987964</td>\n",
       "    </tr>\n",
       "    <tr>\n",
       "      <td>3</td>\n",
       "      <td>./decoys/21I</td>\n",
       "      <td>./decoys/21I_37.pdb</td>\n",
       "      <td>./decoys/21I_37.pdb</td>\n",
       "      <td>50</td>\n",
       "      <td>0</td>\n",
       "      <td>0</td>\n",
       "      <td>0</td>\n",
       "      <td>0</td>\n",
       "      <td>-317.644688</td>\n",
       "      <td>11.583019</td>\n",
       "      <td>-6.949103</td>\n",
       "      <td>-2.558708</td>\n",
       "      <td>10.939998</td>\n",
       "      <td>125.106878</td>\n",
       "      <td>-2.741991</td>\n",
       "      <td>-18.265490</td>\n",
       "      <td>-2.391868</td>\n",
       "      <td>-8.102939</td>\n",
       "      <td>-211.024893</td>\n",
       "    </tr>\n",
       "    <tr>\n",
       "      <td>4</td>\n",
       "      <td>./decoys/21I</td>\n",
       "      <td>./decoys/21I_8.pdb</td>\n",
       "      <td>./decoys/21I_8.pdb</td>\n",
       "      <td>50</td>\n",
       "      <td>0</td>\n",
       "      <td>0</td>\n",
       "      <td>0</td>\n",
       "      <td>0</td>\n",
       "      <td>-320.438867</td>\n",
       "      <td>11.645472</td>\n",
       "      <td>-7.040502</td>\n",
       "      <td>-2.492864</td>\n",
       "      <td>11.228363</td>\n",
       "      <td>127.057288</td>\n",
       "      <td>-2.862614</td>\n",
       "      <td>-18.306280</td>\n",
       "      <td>-2.338161</td>\n",
       "      <td>-7.956285</td>\n",
       "      <td>-211.504452</td>\n",
       "    </tr>\n",
       "  </tbody>\n",
       "</table>\n",
       "</div>"
      ],
      "text/plain": [
       "       pdb_name                decoy             filename  nstruct  \\\n",
       "0  ./decoys/21I  ./decoys/21I_28.pdb  ./decoys/21I_28.pdb       50   \n",
       "1  ./decoys/21I   ./decoys/21I_0.pdb   ./decoys/21I_0.pdb       50   \n",
       "2  ./decoys/21I  ./decoys/21I_17.pdb  ./decoys/21I_17.pdb       50   \n",
       "3  ./decoys/21I  ./decoys/21I_37.pdb  ./decoys/21I_37.pdb       50   \n",
       "4  ./decoys/21I   ./decoys/21I_8.pdb   ./decoys/21I_8.pdb       50   \n",
       "\n",
       "   dslf_ca_dih  dslf_cs_ang  dslf_ss_dih  dslf_ss_dst      fa_atr     fa_dun  \\\n",
       "0            0            0            0            0 -317.082910  11.654043   \n",
       "1            0            0            0            0 -318.453387  11.599302   \n",
       "2            0            0            0            0 -318.298866  11.563834   \n",
       "3            0            0            0            0 -317.644688  11.583019   \n",
       "4            0            0            0            0 -320.438867  11.645472   \n",
       "\n",
       "    fa_elec   fa_pair     fa_rep      fa_sol  hbond_bb_sc  hbond_lr_bb  \\\n",
       "0 -7.043129 -2.577285  10.733370  126.523382    -2.839848   -18.334818   \n",
       "1 -6.960122 -2.503421  10.974029  126.843570    -2.732888   -18.750519   \n",
       "2 -6.937212 -2.528623  10.435023  125.926953    -2.838989   -17.994537   \n",
       "3 -6.949103 -2.558708  10.939998  125.106878    -2.741991   -18.265490   \n",
       "4 -7.040502 -2.492864  11.228363  127.057288    -2.862614   -18.306280   \n",
       "\n",
       "   hbond_sc  hbond_sr_bb  total_score  \n",
       "0 -2.513684    -7.956285  -209.437164  \n",
       "1 -2.218730    -7.956285  -210.158453  \n",
       "2 -2.359262    -7.956285  -210.987964  \n",
       "3 -2.391868    -8.102939  -211.024893  \n",
       "4 -2.338161    -7.956285  -211.504452  "
      ]
     },
     "execution_count": 12,
     "metadata": {},
     "output_type": "execute_result"
    }
   ],
   "source": [
    "data.head()"
   ]
  },
  {
   "cell_type": "code",
   "execution_count": 14,
   "metadata": {},
   "outputs": [],
   "source": [
    "mutants = []\n",
    "for i, r in data.iterrows():\n",
    "    s = r['pdb_name'].split('/')\n",
    "    name = s[2]\n",
    "    mutants.append(name)\n",
    "\n",
    "data['mutant'] = mutants"
   ]
  },
  {
   "cell_type": "code",
   "execution_count": 28,
   "metadata": {},
   "outputs": [],
   "source": [
    "position = []\n",
    "for i, r in data.iterrows():\n",
    "    p = int(r['mutant'][:-1])\n",
    "    position.append(p)\n",
    "\n",
    "data['position'] = position"
   ]
  },
  {
   "cell_type": "code",
   "execution_count": 33,
   "metadata": {},
   "outputs": [
    {
     "data": {
      "text/plain": [
       "49     10\n",
       "2      10\n",
       "1      10\n",
       "0      10\n",
       "49     10\n",
       "     ... \n",
       "12    157\n",
       "7     157\n",
       "10    157\n",
       "0     157\n",
       "11    157\n",
       "Name: position, Length: 2170, dtype: int64"
      ]
     },
     "execution_count": 33,
     "metadata": {},
     "output_type": "execute_result"
    }
   ],
   "source": [
    "data.sort_values('position', inplace=True)\n",
    "data['position']"
   ]
  },
  {
   "cell_type": "code",
   "execution_count": 34,
   "metadata": {},
   "outputs": [
    {
     "data": {
      "text/plain": [
       "<matplotlib.axes._subplots.AxesSubplot at 0x7f79de04fdd0>"
      ]
     },
     "execution_count": 34,
     "metadata": {},
     "output_type": "execute_result"
    },
    {
     "data": {
      "image/png": "[encoded data removed]",
      "text/plain": [
       "<Figure size 1440x360 with 1 Axes>"
      ]
     },
     "metadata": {
      "needs_background": "light"
     },
     "output_type": "display_data"
    }
   ],
   "source": [
    "import seaborn as sn\n",
    "import matplotlib.pyplot as plt\n",
    "\n",
    "plt.figure(figsize=(20,5))\n",
    "sn.boxplot(x='mutant', y='fa_atr', data=data)"
   ]
  },
  {
   "cell_type": "code",
   "execution_count": 35,
   "metadata": {},
   "outputs": [
    {
     "data": {
      "text/plain": [
       "<matplotlib.axes._subplots.AxesSubplot at 0x7f79de08fcd0>"
      ]
     },
     "execution_count": 35,
     "metadata": {},
     "output_type": "execute_result"
    },
    {
     "data": {
      "image/png": "[encoded data removed]",
      "text/plain": [
       "<Figure size 1440x360 with 1 Axes>"
      ]
     },
     "metadata": {
      "needs_background": "light"
     },
     "output_type": "display_data"
    }
   ],
   "source": [
    "plt.figure(figsize=(20,5))\n",
    "sn.boxplot(x='mutant', y='total_score', data=data)"
   ]
  },
  {
   "cell_type": "markdown",
   "metadata": {},
   "source": [
    "Looks intriguing. This would be better as an alanine scan to start. Try an alanine scan at all postions within 8 of the interface."
   ]
  },
  {
   "cell_type": "code",
   "execution_count": null,
   "metadata": {},
   "outputs": [],
   "source": []
  }
 ],
 "metadata": {
  "kernelspec": {
   "display_name": "Python [conda env:pyrosetta]",
   "language": "python",
   "name": "conda-env-pyrosetta-py"
  },
  "language_info": {
   "codemirror_mode": {
    "name": "ipython",
    "version": 3
   },
   "file_extension": ".py",
   "mimetype": "text/x-python",
   "name": "python",
   "nbconvert_exporter": "python",
   "pygments_lexer": "ipython3",
   "version": "3.7.4"
  }
 },
 "nbformat": 4,
 "nbformat_minor": 4
}
