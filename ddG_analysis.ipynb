{
 "cells": [
  {
   "cell_type": "markdown",
   "id": "gross-prince",
   "metadata": {},
   "source": [
    "Look at fpdock + ddG with smbit peptides.    "
   ]
  },
  {
   "cell_type": "code",
   "execution_count": 10,
   "id": "severe-miracle",
   "metadata": {},
   "outputs": [],
   "source": [
    "from os import listdir\n",
    "import pandas as pd\n",
    "import numpy as np"
   ]
  },
  {
   "cell_type": "code",
   "execution_count": 38,
   "id": "becoming-proof",
   "metadata": {},
   "outputs": [
    {
     "name": "stdout",
     "output_type": "stream",
     "text": [
      "431\n",
      "430\n"
     ]
    }
   ],
   "source": [
    "dirp = './decoys/'\n",
    "files = listdir(dirp)\n",
    "\n",
    "print(len(files))\n",
    "data_files = []\n",
    "for file in files:\n",
    "    if \".json\" in file:\n",
    "        data_files.append(file)\n",
    "print(len(data_files))"
   ]
  },
  {
   "cell_type": "code",
   "execution_count": 39,
   "id": "powerful-cricket",
   "metadata": {},
   "outputs": [],
   "source": [
    "kds = {'peptide86':0.7E-9,\n",
    "           'peptide78':3.4E-9,\n",
    "           'peptide79':8.5E-9,\n",
    "           'peptide99':1.8E-7,\n",
    "           'peptide128':2.8E-7,\n",
    "           'native_test':0.9E-6,\n",
    "           'peptide104':1.3E-6,\n",
    "           'peptide101':2.5E-6,\n",
    "           'peptide114':1.9E-4\n",
    "           }\n",
    "\n",
    "frames = []\n",
    "for file in data_files:\n",
    "    df = pd.read_json(dirp+file, orient='records', lines=True)\n",
    "    peptide = file.split('.')[0]\n",
    "    df['peptide'] = peptide\n",
    "    df['kd'] = kds[peptide]\n",
    "    frames.append(df)\n",
    "data = pd.concat(frames)"
   ]
  },
  {
   "cell_type": "code",
   "execution_count": 40,
   "id": "shared-nurse",
   "metadata": {},
   "outputs": [
    {
     "data": {
      "text/html": [
       "<div>\n",
       "<style scoped>\n",
       "    .dataframe tbody tr th:only-of-type {\n",
       "        vertical-align: middle;\n",
       "    }\n",
       "\n",
       "    .dataframe tbody tr th {\n",
       "        vertical-align: top;\n",
       "    }\n",
       "\n",
       "    .dataframe thead th {\n",
       "        text-align: right;\n",
       "    }\n",
       "</style>\n",
       "<table border=\"1\" class=\"dataframe\">\n",
       "  <thead>\n",
       "    <tr style=\"text-align: right;\">\n",
       "      <th></th>\n",
       "      <th>binding energy</th>\n",
       "      <th>fa_atr</th>\n",
       "      <th>fa_rep</th>\n",
       "      <th>fa_sol</th>\n",
       "      <th>fa_intra_rep</th>\n",
       "      <th>fa_intra_sol_xover4</th>\n",
       "      <th>lk_ball_wtd</th>\n",
       "      <th>fa_elec</th>\n",
       "      <th>pro_close</th>\n",
       "      <th>hbond_sr_bb</th>\n",
       "      <th>...</th>\n",
       "      <th>dslf_fa13</th>\n",
       "      <th>omega</th>\n",
       "      <th>fa_dun</th>\n",
       "      <th>p_aa_pp</th>\n",
       "      <th>yhh_planarity</th>\n",
       "      <th>ref</th>\n",
       "      <th>rama_prepro</th>\n",
       "      <th>total_score</th>\n",
       "      <th>peptide</th>\n",
       "      <th>kd</th>\n",
       "    </tr>\n",
       "  </thead>\n",
       "  <tbody>\n",
       "    <tr>\n",
       "      <td>0</td>\n",
       "      <td>-23.095627</td>\n",
       "      <td>-946.489433</td>\n",
       "      <td>245.174269</td>\n",
       "      <td>529.017442</td>\n",
       "      <td>423.031642</td>\n",
       "      <td>34.861123</td>\n",
       "      <td>-17.695483</td>\n",
       "      <td>-274.102018</td>\n",
       "      <td>1.159472</td>\n",
       "      <td>-32.474634</td>\n",
       "      <td>...</td>\n",
       "      <td>0</td>\n",
       "      <td>94.780421</td>\n",
       "      <td>323.393535</td>\n",
       "      <td>-58.793703</td>\n",
       "      <td>0.018661</td>\n",
       "      <td>80.31913</td>\n",
       "      <td>15.458683</td>\n",
       "      <td>-363.449835</td>\n",
       "      <td>peptide128</td>\n",
       "      <td>2.800000e-07</td>\n",
       "    </tr>\n",
       "    <tr>\n",
       "      <td>0</td>\n",
       "      <td>-22.074179</td>\n",
       "      <td>-946.319353</td>\n",
       "      <td>249.148190</td>\n",
       "      <td>530.639494</td>\n",
       "      <td>424.711815</td>\n",
       "      <td>34.462655</td>\n",
       "      <td>-17.357351</td>\n",
       "      <td>-273.821223</td>\n",
       "      <td>1.163170</td>\n",
       "      <td>-32.474634</td>\n",
       "      <td>...</td>\n",
       "      <td>0</td>\n",
       "      <td>91.777244</td>\n",
       "      <td>322.552987</td>\n",
       "      <td>-59.213255</td>\n",
       "      <td>0.021359</td>\n",
       "      <td>80.31913</td>\n",
       "      <td>14.165313</td>\n",
       "      <td>-359.747393</td>\n",
       "      <td>peptide128</td>\n",
       "      <td>2.800000e-07</td>\n",
       "    </tr>\n",
       "    <tr>\n",
       "      <td>0</td>\n",
       "      <td>-23.389000</td>\n",
       "      <td>-943.553390</td>\n",
       "      <td>236.373064</td>\n",
       "      <td>521.087725</td>\n",
       "      <td>425.673924</td>\n",
       "      <td>34.161457</td>\n",
       "      <td>-18.346320</td>\n",
       "      <td>-265.904504</td>\n",
       "      <td>1.192466</td>\n",
       "      <td>-32.474634</td>\n",
       "      <td>...</td>\n",
       "      <td>0</td>\n",
       "      <td>94.816739</td>\n",
       "      <td>331.223937</td>\n",
       "      <td>-59.087886</td>\n",
       "      <td>0.032890</td>\n",
       "      <td>78.30918</td>\n",
       "      <td>12.310559</td>\n",
       "      <td>-364.344143</td>\n",
       "      <td>peptide114</td>\n",
       "      <td>1.900000e-04</td>\n",
       "    </tr>\n",
       "    <tr>\n",
       "      <td>0</td>\n",
       "      <td>-22.309374</td>\n",
       "      <td>-940.519573</td>\n",
       "      <td>224.959646</td>\n",
       "      <td>525.110759</td>\n",
       "      <td>421.310329</td>\n",
       "      <td>33.744172</td>\n",
       "      <td>-16.665057</td>\n",
       "      <td>-277.061981</td>\n",
       "      <td>1.090344</td>\n",
       "      <td>-32.474634</td>\n",
       "      <td>...</td>\n",
       "      <td>0</td>\n",
       "      <td>90.629954</td>\n",
       "      <td>325.213066</td>\n",
       "      <td>-59.047421</td>\n",
       "      <td>0.497884</td>\n",
       "      <td>78.30918</td>\n",
       "      <td>15.793569</td>\n",
       "      <td>-378.292680</td>\n",
       "      <td>peptide114</td>\n",
       "      <td>1.900000e-04</td>\n",
       "    </tr>\n",
       "    <tr>\n",
       "      <td>0</td>\n",
       "      <td>-23.425291</td>\n",
       "      <td>-944.277380</td>\n",
       "      <td>236.850744</td>\n",
       "      <td>529.353360</td>\n",
       "      <td>411.911819</td>\n",
       "      <td>33.397505</td>\n",
       "      <td>-17.028918</td>\n",
       "      <td>-276.873457</td>\n",
       "      <td>1.120203</td>\n",
       "      <td>-32.474634</td>\n",
       "      <td>...</td>\n",
       "      <td>0</td>\n",
       "      <td>93.309750</td>\n",
       "      <td>319.759603</td>\n",
       "      <td>-59.232094</td>\n",
       "      <td>0.034304</td>\n",
       "      <td>80.61524</td>\n",
       "      <td>13.148271</td>\n",
       "      <td>-373.982935</td>\n",
       "      <td>peptide86</td>\n",
       "      <td>7.000000e-10</td>\n",
       "    </tr>\n",
       "  </tbody>\n",
       "</table>\n",
       "<p>5 rows × 23 columns</p>\n",
       "</div>"
      ],
      "text/plain": [
       "   binding energy      fa_atr      fa_rep      fa_sol  fa_intra_rep  \\\n",
       "0      -23.095627 -946.489433  245.174269  529.017442    423.031642   \n",
       "0      -22.074179 -946.319353  249.148190  530.639494    424.711815   \n",
       "0      -23.389000 -943.553390  236.373064  521.087725    425.673924   \n",
       "0      -22.309374 -940.519573  224.959646  525.110759    421.310329   \n",
       "0      -23.425291 -944.277380  236.850744  529.353360    411.911819   \n",
       "\n",
       "   fa_intra_sol_xover4  lk_ball_wtd     fa_elec  pro_close  hbond_sr_bb  ...  \\\n",
       "0            34.861123   -17.695483 -274.102018   1.159472   -32.474634  ...   \n",
       "0            34.462655   -17.357351 -273.821223   1.163170   -32.474634  ...   \n",
       "0            34.161457   -18.346320 -265.904504   1.192466   -32.474634  ...   \n",
       "0            33.744172   -16.665057 -277.061981   1.090344   -32.474634  ...   \n",
       "0            33.397505   -17.028918 -276.873457   1.120203   -32.474634  ...   \n",
       "\n",
       "   dslf_fa13      omega      fa_dun    p_aa_pp  yhh_planarity       ref  \\\n",
       "0          0  94.780421  323.393535 -58.793703       0.018661  80.31913   \n",
       "0          0  91.777244  322.552987 -59.213255       0.021359  80.31913   \n",
       "0          0  94.816739  331.223937 -59.087886       0.032890  78.30918   \n",
       "0          0  90.629954  325.213066 -59.047421       0.497884  78.30918   \n",
       "0          0  93.309750  319.759603 -59.232094       0.034304  80.61524   \n",
       "\n",
       "   rama_prepro  total_score     peptide            kd  \n",
       "0    15.458683  -363.449835  peptide128  2.800000e-07  \n",
       "0    14.165313  -359.747393  peptide128  2.800000e-07  \n",
       "0    12.310559  -364.344143  peptide114  1.900000e-04  \n",
       "0    15.793569  -378.292680  peptide114  1.900000e-04  \n",
       "0    13.148271  -373.982935   peptide86  7.000000e-10  \n",
       "\n",
       "[5 rows x 23 columns]"
      ]
     },
     "execution_count": 40,
     "metadata": {},
     "output_type": "execute_result"
    }
   ],
   "source": [
    "data.head()"
   ]
  },
  {
   "cell_type": "code",
   "execution_count": 45,
   "id": "primary-petite",
   "metadata": {},
   "outputs": [],
   "source": [
    "peptides = set(data['peptide'])\n",
    "tops = []\n",
    "for peptide in peptides:\n",
    "    p = data[data['peptide']==peptide]\n",
    "    p = p.sort_values(by='total_score')\n",
    "    t = p[:5]\n",
    "    tops.append(t)\n",
    "data_top10 = pd.concat(tops)"
   ]
  },
  {
   "cell_type": "code",
   "execution_count": 51,
   "id": "indoor-cycling",
   "metadata": {},
   "outputs": [
    {
     "data": {
      "text/plain": [
       "<matplotlib.axes._subplots.AxesSubplot at 0x7fbf69555350>"
      ]
     },
     "execution_count": 51,
     "metadata": {},
     "output_type": "execute_result"
    },
    {
     "data": {
      "image/png": "[encoded data removed]",
      "text/plain": [
       "<Figure size 432x288 with 1 Axes>"
      ]
     },
     "metadata": {
      "needs_background": "light"
     },
     "output_type": "display_data"
    }
   ],
   "source": [
    "import seaborn as sn\n",
    "import matplotlib.pyplot as plt\n",
    "\n",
    "#plt.figure(figsize=(20,5))\n",
    "#sn.scatter(x='kd', y='ddG', data=data_top10)\n",
    "data_top10.plot(x='kd', y='fa_atr', kind='scatter', logx=True)"
   ]
  },
  {
   "cell_type": "code",
   "execution_count": 50,
   "id": "answering-venice",
   "metadata": {},
   "outputs": [
    {
     "data": {
      "text/plain": [
       "binding energy         1.250552e-01\n",
       "fa_atr                 1.471829e-01\n",
       "fa_rep                -2.386922e-01\n",
       "fa_sol                -4.528301e-01\n",
       "fa_intra_rep          -7.405446e-02\n",
       "fa_intra_sol_xover4   -1.787019e-01\n",
       "lk_ball_wtd           -3.693166e-01\n",
       "fa_elec                3.003653e-01\n",
       "pro_close             -1.079546e-01\n",
       "hbond_sr_bb           -5.313539e-17\n",
       "hbond_lr_bb            2.377606e-01\n",
       "hbond_bb_sc            1.280422e-01\n",
       "hbond_sc               4.204131e-02\n",
       "dslf_fa13                       NaN\n",
       "omega                 -2.398478e-01\n",
       "fa_dun                -1.062419e-01\n",
       "p_aa_pp                4.870899e-02\n",
       "yhh_planarity          2.979279e-01\n",
       "ref                   -3.876840e-02\n",
       "rama_prepro            7.744081e-02\n",
       "total_score           -1.646844e-01\n",
       "kd                     1.000000e+00\n",
       "Name: kd, dtype: float64"
      ]
     },
     "execution_count": 50,
     "metadata": {},
     "output_type": "execute_result"
    }
   ],
   "source": [
    "data_top10.corr(\"pearson\")['kd']"
   ]
  },
  {
   "cell_type": "markdown",
   "id": "above-method",
   "metadata": {},
   "source": [
    "Looks like there is a correlation but it's not great. I think this would be improved if we fpdock on the WT and found that dG first, then plug that in to all the runs (or subtract them afterward). This would save a lot of computational time as well. **So rewrite ddG as just dG, eliminating the need for a WT pose as well.**"
   ]
  },
  {
   "cell_type": "markdown",
   "id": "earlier-warren",
   "metadata": {},
   "source": [
    "That didn't work. It's more or less the same. I guess binding energy doesn't really tell us much. Do we need to be recording the ```total_score``` immediately after ```fpdock``` does this change a lot after the dG calc? What are the numbers like when there is a reference structure given to ```fpdock```? How is that done?"
   ]
  },
  {
   "cell_type": "code",
   "execution_count": null,
   "id": "relevant-worthy",
   "metadata": {},
   "outputs": [],
   "source": []
  }
 ],
 "metadata": {
  "kernelspec": {
   "display_name": "Python (pyrosetta)",
   "language": "python",
   "name": "pyrosetta"
  },
  "language_info": {
   "codemirror_mode": {
    "name": "ipython",
    "version": 3
   },
   "file_extension": ".py",
   "mimetype": "text/x-python",
   "name": "python",
   "nbconvert_exporter": "python",
   "pygments_lexer": "ipython3",
   "version": "3.7.4"
  }
 },
 "nbformat": 4,
 "nbformat_minor": 5
}
