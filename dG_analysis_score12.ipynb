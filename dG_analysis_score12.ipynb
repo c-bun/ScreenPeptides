{
 "cells": [
  {
   "cell_type": "markdown",
   "id": "fuzzy-zoning",
   "metadata": {},
   "source": [
    "Look at fpdock + ddG with smbit peptides.    "
   ]
  },
  {
   "cell_type": "code",
   "execution_count": 2,
   "id": "improving-width",
   "metadata": {},
   "outputs": [],
   "source": [
    "from os import listdir\n",
    "import pandas as pd\n",
    "import numpy as np"
   ]
  },
  {
   "cell_type": "code",
   "execution_count": 3,
   "id": "inside-voltage",
   "metadata": {
    "tags": []
   },
   "outputs": [
    {
     "name": "stdout",
     "output_type": "stream",
     "text": [
      "218\n",
      "218\n"
     ]
    }
   ],
   "source": [
    "dirp = './decoys/score12/'\n",
    "files = listdir(dirp)\n",
    "\n",
    "print(len(files))\n",
    "data_files = []\n",
    "for file in files:\n",
    "    if \".json\" in file:\n",
    "        data_files.append(file)\n",
    "print(len(data_files))"
   ]
  },
  {
   "cell_type": "code",
   "execution_count": 5,
   "id": "periodic-artwork",
   "metadata": {},
   "outputs": [],
   "source": [
    "kds = {'peptide86':0.7E-9,\n",
    "           'peptide78':3.4E-9,\n",
    "           'peptide79':8.5E-9,\n",
    "           'peptide99':1.8E-7,\n",
    "           'peptide128':2.8E-7,\n",
    "           'native_test':0.9E-6,\n",
    "           'peptide104':1.3E-6,\n",
    "           'peptide101':2.5E-6,\n",
    "           'peptide114':1.9E-4\n",
    "           }\n",
    "\n",
    "frames = []\n",
    "for file in data_files:\n",
    "    df = pd.read_json(dirp+file, orient='records', lines=True)\n",
    "    peptide = file.split('.')[0]\n",
    "    df['peptide'] = peptide\n",
    "    df['kd'] = kds[peptide]\n",
    "    frames.append(df)\n",
    "data = pd.concat(frames)"
   ]
  },
  {
   "cell_type": "code",
   "execution_count": 6,
   "id": "signal-assessment",
   "metadata": {},
   "outputs": [
    {
     "data": {
      "text/html": [
       "<div>\n",
       "<style scoped>\n",
       "    .dataframe tbody tr th:only-of-type {\n",
       "        vertical-align: middle;\n",
       "    }\n",
       "\n",
       "    .dataframe tbody tr th {\n",
       "        vertical-align: top;\n",
       "    }\n",
       "\n",
       "    .dataframe thead th {\n",
       "        text-align: right;\n",
       "    }\n",
       "</style>\n",
       "<table border=\"1\" class=\"dataframe\">\n",
       "  <thead>\n",
       "    <tr style=\"text-align: right;\">\n",
       "      <th></th>\n",
       "      <th>A_B binding energy</th>\n",
       "      <th>fa_atr</th>\n",
       "      <th>fa_rep</th>\n",
       "      <th>fa_sol</th>\n",
       "      <th>fa_intra_rep</th>\n",
       "      <th>pro_close</th>\n",
       "      <th>fa_pair</th>\n",
       "      <th>hbond_sr_bb</th>\n",
       "      <th>hbond_lr_bb</th>\n",
       "      <th>hbond_bb_sc</th>\n",
       "      <th>...</th>\n",
       "      <th>dslf_ss_dih</th>\n",
       "      <th>dslf_ca_dih</th>\n",
       "      <th>rama</th>\n",
       "      <th>omega</th>\n",
       "      <th>fa_dun</th>\n",
       "      <th>p_aa_pp</th>\n",
       "      <th>ref</th>\n",
       "      <th>total_score</th>\n",
       "      <th>peptide</th>\n",
       "      <th>kd</th>\n",
       "    </tr>\n",
       "  </thead>\n",
       "  <tbody>\n",
       "    <tr>\n",
       "      <td>0</td>\n",
       "      <td>-45.726311</td>\n",
       "      <td>-945.832271</td>\n",
       "      <td>234.432157</td>\n",
       "      <td>532.962252</td>\n",
       "      <td>418.897273</td>\n",
       "      <td>1.213613</td>\n",
       "      <td>-15.552444</td>\n",
       "      <td>-32.474634</td>\n",
       "      <td>-75.314595</td>\n",
       "      <td>-11.135248</td>\n",
       "      <td>...</td>\n",
       "      <td>0</td>\n",
       "      <td>0</td>\n",
       "      <td>-48.255936</td>\n",
       "      <td>92.851660</td>\n",
       "      <td>323.374843</td>\n",
       "      <td>-59.613901</td>\n",
       "      <td>-26.66</td>\n",
       "      <td>-269.466342</td>\n",
       "      <td>peptide128</td>\n",
       "      <td>2.800000e-07</td>\n",
       "    </tr>\n",
       "    <tr>\n",
       "      <td>0</td>\n",
       "      <td>-48.589066</td>\n",
       "      <td>-940.980608</td>\n",
       "      <td>232.200413</td>\n",
       "      <td>525.063921</td>\n",
       "      <td>416.815169</td>\n",
       "      <td>1.091408</td>\n",
       "      <td>-15.823889</td>\n",
       "      <td>-32.474634</td>\n",
       "      <td>-74.672803</td>\n",
       "      <td>-11.827774</td>\n",
       "      <td>...</td>\n",
       "      <td>0</td>\n",
       "      <td>0</td>\n",
       "      <td>-49.421709</td>\n",
       "      <td>90.798416</td>\n",
       "      <td>313.286188</td>\n",
       "      <td>-59.694142</td>\n",
       "      <td>-26.93</td>\n",
       "      <td>-281.943886</td>\n",
       "      <td>peptide99</td>\n",
       "      <td>1.800000e-07</td>\n",
       "    </tr>\n",
       "    <tr>\n",
       "      <td>0</td>\n",
       "      <td>-46.378220</td>\n",
       "      <td>-944.313149</td>\n",
       "      <td>245.305893</td>\n",
       "      <td>528.547052</td>\n",
       "      <td>427.387975</td>\n",
       "      <td>1.099686</td>\n",
       "      <td>-16.787308</td>\n",
       "      <td>-32.474634</td>\n",
       "      <td>-77.545272</td>\n",
       "      <td>-11.687729</td>\n",
       "      <td>...</td>\n",
       "      <td>0</td>\n",
       "      <td>0</td>\n",
       "      <td>-48.000718</td>\n",
       "      <td>92.346508</td>\n",
       "      <td>320.098594</td>\n",
       "      <td>-56.939358</td>\n",
       "      <td>-25.53</td>\n",
       "      <td>-271.321601</td>\n",
       "      <td>native_test</td>\n",
       "      <td>9.000000e-07</td>\n",
       "    </tr>\n",
       "    <tr>\n",
       "      <td>0</td>\n",
       "      <td>-44.849197</td>\n",
       "      <td>-937.831440</td>\n",
       "      <td>246.632618</td>\n",
       "      <td>523.772692</td>\n",
       "      <td>431.809250</td>\n",
       "      <td>1.182889</td>\n",
       "      <td>-17.703867</td>\n",
       "      <td>-32.474634</td>\n",
       "      <td>-75.968925</td>\n",
       "      <td>-11.336147</td>\n",
       "      <td>...</td>\n",
       "      <td>0</td>\n",
       "      <td>0</td>\n",
       "      <td>-48.559392</td>\n",
       "      <td>92.959581</td>\n",
       "      <td>333.788083</td>\n",
       "      <td>-60.381249</td>\n",
       "      <td>-27.47</td>\n",
       "      <td>-260.682847</td>\n",
       "      <td>peptide104</td>\n",
       "      <td>1.300000e-06</td>\n",
       "    </tr>\n",
       "    <tr>\n",
       "      <td>0</td>\n",
       "      <td>-41.485668</td>\n",
       "      <td>-942.021174</td>\n",
       "      <td>245.090300</td>\n",
       "      <td>534.158340</td>\n",
       "      <td>418.407089</td>\n",
       "      <td>1.200468</td>\n",
       "      <td>-17.028983</td>\n",
       "      <td>-32.474634</td>\n",
       "      <td>-73.882624</td>\n",
       "      <td>-11.128726</td>\n",
       "      <td>...</td>\n",
       "      <td>0</td>\n",
       "      <td>0</td>\n",
       "      <td>-48.480701</td>\n",
       "      <td>93.260128</td>\n",
       "      <td>327.345732</td>\n",
       "      <td>-60.476055</td>\n",
       "      <td>-27.47</td>\n",
       "      <td>-257.807271</td>\n",
       "      <td>peptide104</td>\n",
       "      <td>1.300000e-06</td>\n",
       "    </tr>\n",
       "  </tbody>\n",
       "</table>\n",
       "<p>5 rows × 23 columns</p>\n",
       "</div>"
      ],
      "text/plain": [
       "   A_B binding energy      fa_atr      fa_rep      fa_sol  fa_intra_rep  \\\n",
       "0          -45.726311 -945.832271  234.432157  532.962252    418.897273   \n",
       "0          -48.589066 -940.980608  232.200413  525.063921    416.815169   \n",
       "0          -46.378220 -944.313149  245.305893  528.547052    427.387975   \n",
       "0          -44.849197 -937.831440  246.632618  523.772692    431.809250   \n",
       "0          -41.485668 -942.021174  245.090300  534.158340    418.407089   \n",
       "\n",
       "   pro_close    fa_pair  hbond_sr_bb  hbond_lr_bb  hbond_bb_sc  ...  \\\n",
       "0   1.213613 -15.552444   -32.474634   -75.314595   -11.135248  ...   \n",
       "0   1.091408 -15.823889   -32.474634   -74.672803   -11.827774  ...   \n",
       "0   1.099686 -16.787308   -32.474634   -77.545272   -11.687729  ...   \n",
       "0   1.182889 -17.703867   -32.474634   -75.968925   -11.336147  ...   \n",
       "0   1.200468 -17.028983   -32.474634   -73.882624   -11.128726  ...   \n",
       "\n",
       "   dslf_ss_dih  dslf_ca_dih       rama      omega      fa_dun    p_aa_pp  \\\n",
       "0            0            0 -48.255936  92.851660  323.374843 -59.613901   \n",
       "0            0            0 -49.421709  90.798416  313.286188 -59.694142   \n",
       "0            0            0 -48.000718  92.346508  320.098594 -56.939358   \n",
       "0            0            0 -48.559392  92.959581  333.788083 -60.381249   \n",
       "0            0            0 -48.480701  93.260128  327.345732 -60.476055   \n",
       "\n",
       "     ref  total_score      peptide            kd  \n",
       "0 -26.66  -269.466342   peptide128  2.800000e-07  \n",
       "0 -26.93  -281.943886    peptide99  1.800000e-07  \n",
       "0 -25.53  -271.321601  native_test  9.000000e-07  \n",
       "0 -27.47  -260.682847   peptide104  1.300000e-06  \n",
       "0 -27.47  -257.807271   peptide104  1.300000e-06  \n",
       "\n",
       "[5 rows x 23 columns]"
      ]
     },
     "execution_count": 6,
     "metadata": {},
     "output_type": "execute_result"
    }
   ],
   "source": [
    "data.head()"
   ]
  },
  {
   "cell_type": "code",
   "execution_count": 7,
   "id": "opposite-finish",
   "metadata": {},
   "outputs": [],
   "source": [
    "peptides = set(data['peptide'])\n",
    "tops = []\n",
    "for peptide in peptides:\n",
    "    p = data[data['peptide']==peptide]\n",
    "    p = p.sort_values(by='total_score')\n",
    "    t = p[:5]\n",
    "    tops.append(t)\n",
    "data_top10 = pd.concat(tops)"
   ]
  },
  {
   "cell_type": "code",
   "execution_count": 12,
   "id": "floppy-russian",
   "metadata": {},
   "outputs": [
    {
     "data": {
      "text/plain": [
       "<matplotlib.axes._subplots.AxesSubplot at 0x7ff9587f59d0>"
      ]
     },
     "execution_count": 12,
     "metadata": {},
     "output_type": "execute_result"
    },
    {
     "data": {
      "image/png": "[encoded data removed]",
      "text/plain": [
       "<Figure size 432x288 with 1 Axes>"
      ]
     },
     "metadata": {
      "needs_background": "light"
     },
     "output_type": "display_data"
    }
   ],
   "source": [
    "import seaborn as sn\n",
    "import matplotlib.pyplot as plt\n",
    "\n",
    "#plt.figure(figsize=(20,5))\n",
    "#sn.scatter(x='kd', y='ddG', data=data_top10)\n",
    "data_top10.plot(x='kd', y='A_B binding energy', kind='scatter', logx=True)"
   ]
  },
  {
   "cell_type": "code",
   "execution_count": 10,
   "id": "ceramic-belle",
   "metadata": {},
   "outputs": [
    {
     "data": {
      "text/plain": [
       "A_B binding energy    0.012398\n",
       "fa_atr               -0.056535\n",
       "fa_rep                0.031721\n",
       "fa_sol               -0.253126\n",
       "fa_intra_rep          0.054681\n",
       "pro_close             0.426270\n",
       "fa_pair               0.428787\n",
       "hbond_sr_bb           0.054224\n",
       "hbond_lr_bb           0.229763\n",
       "hbond_bb_sc           0.405098\n",
       "hbond_sc              0.285408\n",
       "dslf_ss_dst                NaN\n",
       "dslf_cs_ang                NaN\n",
       "dslf_ss_dih                NaN\n",
       "dslf_ca_dih                NaN\n",
       "rama                  0.312141\n",
       "omega                 0.035977\n",
       "fa_dun                0.246089\n",
       "p_aa_pp               0.264026\n",
       "ref                   0.140814\n",
       "total_score           0.258262\n",
       "kd                    1.000000\n",
       "Name: kd, dtype: float64"
      ]
     },
     "execution_count": 10,
     "metadata": {},
     "output_type": "execute_result"
    }
   ],
   "source": [
    "data_top10.corr()['kd']"
   ]
  },
  {
   "cell_type": "markdown",
   "id": "weird-printer",
   "metadata": {},
   "source": [
    "Looks like there is a correlation but it's not great. I think this would be improved if we fpdock on the WT and found that dG first, then plug that in to all the runs (or subtract them afterward). This would save a lot of computational time as well. **So rewrite ddG as just dG, eliminating the need for a WT pose as well.**"
   ]
  },
  {
   "cell_type": "markdown",
   "id": "opposed-campus",
   "metadata": {},
   "source": [
    "That didn't work. It's more or less the same. I guess binding energy doesn't really tell us much. Do we need to be recording the ```total_score``` immediately after ```fpdock``` does this change a lot after the dG calc? What are the numbers like when there is a reference structure given to ```fpdock```? How is that done?"
   ]
  },
  {
   "cell_type": "code",
   "execution_count": null,
   "id": "affiliated-chicago",
   "metadata": {},
   "outputs": [],
   "source": []
  }
 ],
 "metadata": {
  "kernelspec": {
   "display_name": "Python (pyrosetta)",
   "language": "python",
   "name": "pyrosetta"
  },
  "language_info": {
   "codemirror_mode": {
    "name": "ipython",
    "version": 3
   },
   "file_extension": ".py",
   "mimetype": "text/x-python",
   "name": "python",
   "nbconvert_exporter": "python",
   "pygments_lexer": "ipython3",
   "version": "3.7.4"
  }
 },
 "nbformat": 4,
 "nbformat_minor": 5
}
